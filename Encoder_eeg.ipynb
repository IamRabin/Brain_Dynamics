{
 "cells": [
  {
   "cell_type": "markdown",
   "metadata": {},
   "source": [
    "# Encoding EEG Signals using Deep Learning \n"
   ]
  },
  {
   "cell_type": "markdown",
   "metadata": {},
   "source": [
    "In this work, We use Auto-enocoder model to encode our high dimensional input data into a smaller feature vector. Autoencoders are type of neural network that can learn to represent  the higher dimensional data into lower-dimensional representation by projecting the data into latent space [1]. Latent space is the low dimensional manifold of high dimensional images where all the instances of the dataset lie in proximity. The auto-encoder is composed of an encoder and a decoder part. The encoder takes in an input and projects it to a lower-dimensional representaion space while the decoder takes the lower dimensional representation and maps it back to the original input. The training objective is to minimize the difference between the input and the reconstructed output. While minimizing the objective function, the autoencoders learns to identify the most important features of the input data in the lower-dimensional representation space. \n",
    "\n",
    "The objective of this work is to identify important features from the Electroencephalography (EEG) data. EEG captures electrical activity in brain using multiple electrodes attached to the scalp [2]. The volatge fluctuations in the EEG represents underlying brain activites which can be used to identify normal or abnormal functioning of the brain [3]. \n",
    "\n",
    "\n",
    "\n",
    "# Implementation:\n",
    "\n",
    " The autoencoder model was implemented using pytorch framework. The model was trained on A100- Nvidia GPU at ex3 clusters. Electroencephalography (EEG) dataset is used to train the model. \n",
    "\n",
    " ## Data:\n",
    "\n",
    "The TUH Abnormal EEG dataset is used to train the autoencoder model. The task is to classify the raw EEG recordings into normal or abnormal class. The data is open source and includes 2993 EEG recordings of at least 15 mins time duration [4]. The dataset is divided into training and validation set. The training set contains of 2717 recordings(1371 normal class and 1346 abnormal class) and validation set holds 276 recordings(150 normal normal and 120 abnormal class). \n",
    "\n",
    " ## Data Preprocessing:\n",
    " Some minimal pre-processing is applied to the raw EEG data. A subset of common 19 electrodes are selected for all the recordings. The EEG signals were downsampled to 100 HZ and clipped at ±800µV to avoid extreme outliers.The band pass filtering is applided from 0 to 40 HZ . Then, the EEG recordings are split by using sliding window method so that each recordings has the shape of \"#of window samples x channle x time \" . The choice of size of sliding window is determined by the sampling frequency so that it includes most of the important frequencies. \n",
    "\n",
    "\n",
    "# Model:\n",
    "\n",
    "The autoencoder consists of the encoder and decoder part. The encoder part is implemented by using convolutional network where the image is scale down layere by layer using strided convoltuios . The image is downscaled three times. Then , the downscaled image is flattened and linear layer is applied . The latent representation is obtained as a vector of size 128.  Then, the decoder part takes the vector of size 128 and scales up using transposed convlution layers. The transposed convolution adds stride to the input insetead of the output and scales up the input. The final layer of the decoder reconstructs the original image. \n",
    "\n",
    "The loss function for training the auto-enocder model is the mean squared error (MSE). The MSE is avearged over the batch dimension while training the model. The Adam optimizer [5] has been adopted to optimize the loss function. \n",
    "\n",
    "The implemenation of the model and  training is illustrated below in the $ ´Model´ $ section of the notebook.\n",
    "\n",
    "\n",
    "\n",
    "\n",
    " # Referneces :\n",
    "\n",
    "1. Kramer, Mark A. (1991). \"Nonlinear principal component analysis using autoassociative neural networks\" (PDF). AIChE Journal. 37 (2): 233–243. doi:10.1002/aic.690370209.\n",
    "\n",
    "2. Amzica, Florin; Lopes da Silva, Fernando H. (November 2017). Schomer, Donald L.; Lopes da Silva, Fernando H. (eds.). Cellular Substrates of Brain Rhythms. Vol. 1. Oxford University Press. doi:10.1093/med/9780190228484.003.0002\n",
    "\n",
    "3. Principles of neural science. Eric R. Kandel, John Koester, Sarah Mack, Steven Siegelbaum (6th ed.). New York. 2021. p. 1450. ISBN 978-1-259-64223-4. OCLC 1199587061\n",
    "\n",
    "4. TUH Abnormal EEG Corpus. https://www.isip.piconepress.com/projects/tuh_eeg/html/downloads.shtml\n",
    "\n",
    "5. A. Agnes Lydia and , F. Sagayaraj Francis, Adagrad - An Optimizer for Stochastic Gradient Descent, Department of Computer Science and Engineering, Pondicherry Engineering College, May 2019.\n",
    "\n"
   ]
  },
  {
   "cell_type": "markdown",
   "metadata": {},
   "source": [
    "# Model "
   ]
  },
  {
   "cell_type": "code",
   "execution_count": 6,
   "metadata": {},
   "outputs": [
    {
     "ename": "TypeError",
     "evalue": "Couldn't build proto file into descriptor pool!\nInvalid proto descriptor for file \"tensorboard/compat/proto/tensor_shape.proto\":\n  tensorboard.TensorShapeProto.dim: \"tensorboard.TensorShapeProto.dim\" is already defined in file \"tensorboard/src/tensor_shape.proto\".\n  tensorboard.TensorShapeProto.unknown_rank: \"tensorboard.TensorShapeProto.unknown_rank\" is already defined in file \"tensorboard/src/tensor_shape.proto\".\n  tensorboard.TensorShapeProto.Dim.size: \"tensorboard.TensorShapeProto.Dim.size\" is already defined in file \"tensorboard/src/tensor_shape.proto\".\n  tensorboard.TensorShapeProto.Dim.name: \"tensorboard.TensorShapeProto.Dim.name\" is already defined in file \"tensorboard/src/tensor_shape.proto\".\n  tensorboard.TensorShapeProto.Dim: \"tensorboard.TensorShapeProto.Dim\" is already defined in file \"tensorboard/src/tensor_shape.proto\".\n  tensorboard.TensorShapeProto: \"tensorboard.TensorShapeProto\" is already defined in file \"tensorboard/src/tensor_shape.proto\".\n  tensorboard.TensorShapeProto.dim: \"tensorboard.TensorShapeProto.Dim\" seems to be defined in \"tensorboard/src/tensor_shape.proto\", which is not imported by \"tensorboard/compat/proto/tensor_shape.proto\".  To use it here, please add the necessary import.\n",
     "output_type": "error",
     "traceback": [
      "\u001b[0;31m---------------------------------------------------------------------------\u001b[0m",
      "\u001b[0;31mTypeError\u001b[0m                                 Traceback (most recent call last)",
      "\u001b[1;32m/home/rabink1/EEG_Encoder/Encoder_eeg.ipynb Cell 4\u001b[0m in \u001b[0;36m<cell line: 40>\u001b[0;34m()\u001b[0m\n\u001b[1;32m     <a href='vscode-notebook-cell://ssh-remote%2B7b22686f73744e616d65223a2248475832227d/home/rabink1/EEG_Encoder/Encoder_eeg.ipynb#W3sdnNjb2RlLXJlbW90ZQ%3D%3D?line=36'>37</a>\u001b[0m \u001b[39mfrom\u001b[39;00m \u001b[39mpytorch_lightning\u001b[39;00m\u001b[39m.\u001b[39;00m\u001b[39mcallbacks\u001b[39;00m \u001b[39mimport\u001b[39;00m LearningRateMonitor, ModelCheckpoint\n\u001b[1;32m     <a href='vscode-notebook-cell://ssh-remote%2B7b22686f73744e616d65223a2248475832227d/home/rabink1/EEG_Encoder/Encoder_eeg.ipynb#W3sdnNjb2RlLXJlbW90ZQ%3D%3D?line=38'>39</a>\u001b[0m \u001b[39m# Tensorboard extension (for visualization purposes later)\u001b[39;00m\n\u001b[0;32m---> <a href='vscode-notebook-cell://ssh-remote%2B7b22686f73744e616d65223a2248475832227d/home/rabink1/EEG_Encoder/Encoder_eeg.ipynb#W3sdnNjb2RlLXJlbW90ZQ%3D%3D?line=39'>40</a>\u001b[0m \u001b[39mfrom\u001b[39;00m \u001b[39mtorch\u001b[39;00m\u001b[39m.\u001b[39;00m\u001b[39mutils\u001b[39;00m\u001b[39m.\u001b[39;00m\u001b[39mtensorboard\u001b[39;00m \u001b[39mimport\u001b[39;00m SummaryWriter\n\u001b[1;32m     <a href='vscode-notebook-cell://ssh-remote%2B7b22686f73744e616d65223a2248475832227d/home/rabink1/EEG_Encoder/Encoder_eeg.ipynb#W3sdnNjb2RlLXJlbW90ZQ%3D%3D?line=40'>41</a>\u001b[0m get_ipython()\u001b[39m.\u001b[39mrun_line_magic(\u001b[39m'\u001b[39m\u001b[39mload_ext\u001b[39m\u001b[39m'\u001b[39m, \u001b[39m'\u001b[39m\u001b[39mtensorboard\u001b[39m\u001b[39m'\u001b[39m)\n\u001b[1;32m     <a href='vscode-notebook-cell://ssh-remote%2B7b22686f73744e616d65223a2248475832227d/home/rabink1/EEG_Encoder/Encoder_eeg.ipynb#W3sdnNjb2RlLXJlbW90ZQ%3D%3D?line=42'>43</a>\u001b[0m \u001b[39m# Path to the  data folder \u001b[39;00m\n",
      "File \u001b[0;32m~/.local/lib/python3.9/site-packages/torch/utils/tensorboard/__init__.py:1\u001b[0m, in \u001b[0;36m<module>\u001b[0;34m\u001b[0m\n\u001b[0;32m----> 1\u001b[0m \u001b[39mimport\u001b[39;00m \u001b[39mtensorboard\u001b[39;00m\n\u001b[1;32m      2\u001b[0m \u001b[39mfrom\u001b[39;00m \u001b[39mdistutils\u001b[39;00m\u001b[39m.\u001b[39;00m\u001b[39mversion\u001b[39;00m \u001b[39mimport\u001b[39;00m LooseVersion\n\u001b[1;32m      4\u001b[0m \u001b[39mif\u001b[39;00m \u001b[39mnot\u001b[39;00m \u001b[39mhasattr\u001b[39m(tensorboard, \u001b[39m\"\u001b[39m\u001b[39m__version__\u001b[39m\u001b[39m\"\u001b[39m) \u001b[39mor\u001b[39;00m LooseVersion(\n\u001b[1;32m      5\u001b[0m     tensorboard\u001b[39m.\u001b[39m__version__\n\u001b[1;32m      6\u001b[0m ) \u001b[39m<\u001b[39m LooseVersion(\u001b[39m\"\u001b[39m\u001b[39m1.15\u001b[39m\u001b[39m\"\u001b[39m):\n",
      "File \u001b[0;32m~/.conda/envs/ai-mind/lib/python3.9/site-packages/tensorboard/__init__.py:4\u001b[0m, in \u001b[0;36m<module>\u001b[0;34m\u001b[0m\n\u001b[1;32m      1\u001b[0m \u001b[39m\"\"\"A module for visualization with tensorboard\u001b[39;00m\n\u001b[1;32m      2\u001b[0m \u001b[39m\"\"\"\u001b[39;00m\n\u001b[0;32m----> 4\u001b[0m \u001b[39mfrom\u001b[39;00m \u001b[39m.\u001b[39;00m\u001b[39mwriter\u001b[39;00m \u001b[39mimport\u001b[39;00m FileWriter, SummaryWriter\n\u001b[1;32m      5\u001b[0m \u001b[39mfrom\u001b[39;00m \u001b[39m.\u001b[39;00m\u001b[39mrecord_writer\u001b[39;00m \u001b[39mimport\u001b[39;00m RecordWriter\n",
      "File \u001b[0;32m~/.conda/envs/ai-mind/lib/python3.9/site-packages/tensorboard/writer.py:28\u001b[0m, in \u001b[0;36m<module>\u001b[0;34m\u001b[0m\n\u001b[1;32m     26\u001b[0m \u001b[39mfrom\u001b[39;00m \u001b[39m.\u001b[39;00m\u001b[39msrc\u001b[39;00m \u001b[39mimport\u001b[39;00m graph_pb2\n\u001b[1;32m     27\u001b[0m \u001b[39mfrom\u001b[39;00m \u001b[39m.\u001b[39;00m\u001b[39mevent_file_writer\u001b[39;00m \u001b[39mimport\u001b[39;00m EventFileWriter\n\u001b[0;32m---> 28\u001b[0m \u001b[39mfrom\u001b[39;00m \u001b[39m.\u001b[39;00m\u001b[39msummary\u001b[39;00m \u001b[39mimport\u001b[39;00m scalar, histogram, image, audio, text\n\u001b[1;32m     29\u001b[0m \u001b[39mfrom\u001b[39;00m \u001b[39m.\u001b[39;00m\u001b[39mgraph\u001b[39;00m \u001b[39mimport\u001b[39;00m graph\n\u001b[1;32m     30\u001b[0m \u001b[39mfrom\u001b[39;00m \u001b[39m.\u001b[39;00m\u001b[39membedding\u001b[39;00m \u001b[39mimport\u001b[39;00m make_mat, make_sprite, make_tsv, append_pbtxt\n",
      "File \u001b[0;32m~/.conda/envs/ai-mind/lib/python3.9/site-packages/tensorboard/summary/__init__.py:22\u001b[0m, in \u001b[0;36m<module>\u001b[0;34m\u001b[0m\n\u001b[1;32m     20\u001b[0m \u001b[39m# If the V1 summary API is accessible, load and re-export it here.\u001b[39;00m\n\u001b[1;32m     21\u001b[0m \u001b[39mtry\u001b[39;00m:\n\u001b[0;32m---> 22\u001b[0m     \u001b[39mfrom\u001b[39;00m \u001b[39mtensorboard\u001b[39;00m\u001b[39m.\u001b[39;00m\u001b[39msummary\u001b[39;00m \u001b[39mimport\u001b[39;00m v1  \u001b[39m# noqa: F401\u001b[39;00m\n\u001b[1;32m     23\u001b[0m \u001b[39mexcept\u001b[39;00m \u001b[39mImportError\u001b[39;00m:\n\u001b[1;32m     24\u001b[0m     \u001b[39mpass\u001b[39;00m\n",
      "File \u001b[0;32m~/.conda/envs/ai-mind/lib/python3.9/site-packages/tensorboard/summary/v1.py:21\u001b[0m, in \u001b[0;36m<module>\u001b[0;34m\u001b[0m\n\u001b[1;32m      1\u001b[0m \u001b[39m# Copyright 2017 The TensorFlow Authors. All Rights Reserved.\u001b[39;00m\n\u001b[1;32m      2\u001b[0m \u001b[39m#\u001b[39;00m\n\u001b[1;32m      3\u001b[0m \u001b[39m# Licensed under the Apache License, Version 2.0 (the \"License\");\u001b[39;00m\n\u001b[0;32m   (...)\u001b[0m\n\u001b[1;32m     13\u001b[0m \u001b[39m# limitations under the License.\u001b[39;00m\n\u001b[1;32m     14\u001b[0m \u001b[39m# ==============================================================================\u001b[39;00m\n\u001b[1;32m     15\u001b[0m \u001b[39m\"\"\"Central API entry point for v1 versions of summary operations.\u001b[39;00m\n\u001b[1;32m     16\u001b[0m \n\u001b[1;32m     17\u001b[0m \u001b[39mThis module simply offers a shorter way to access the members of modules\u001b[39;00m\n\u001b[1;32m     18\u001b[0m \u001b[39mlike `tensorboard.plugins.scalar.summary`.\u001b[39;00m\n\u001b[1;32m     19\u001b[0m \u001b[39m\"\"\"\u001b[39;00m\n\u001b[0;32m---> 21\u001b[0m \u001b[39mfrom\u001b[39;00m \u001b[39mtensorboard\u001b[39;00m\u001b[39m.\u001b[39;00m\u001b[39mplugins\u001b[39;00m\u001b[39m.\u001b[39;00m\u001b[39maudio\u001b[39;00m \u001b[39mimport\u001b[39;00m summary \u001b[39mas\u001b[39;00m _audio_summary\n\u001b[1;32m     22\u001b[0m \u001b[39mfrom\u001b[39;00m \u001b[39mtensorboard\u001b[39;00m\u001b[39m.\u001b[39;00m\u001b[39mplugins\u001b[39;00m\u001b[39m.\u001b[39;00m\u001b[39mcustom_scalar\u001b[39;00m \u001b[39mimport\u001b[39;00m summary \u001b[39mas\u001b[39;00m _custom_scalar_summary\n\u001b[1;32m     23\u001b[0m \u001b[39mfrom\u001b[39;00m \u001b[39mtensorboard\u001b[39;00m\u001b[39m.\u001b[39;00m\u001b[39mplugins\u001b[39;00m\u001b[39m.\u001b[39;00m\u001b[39mhistogram\u001b[39;00m \u001b[39mimport\u001b[39;00m summary \u001b[39mas\u001b[39;00m _histogram_summary\n",
      "File \u001b[0;32m~/.conda/envs/ai-mind/lib/python3.9/site-packages/tensorboard/plugins/audio/summary.py:34\u001b[0m, in \u001b[0;36m<module>\u001b[0;34m\u001b[0m\n\u001b[1;32m     31\u001b[0m \u001b[39mimport\u001b[39;00m \u001b[39mnumpy\u001b[39;00m \u001b[39mas\u001b[39;00m \u001b[39mnp\u001b[39;00m\n\u001b[1;32m     33\u001b[0m \u001b[39mfrom\u001b[39;00m \u001b[39mtensorboard\u001b[39;00m\u001b[39m.\u001b[39;00m\u001b[39mutil\u001b[39;00m \u001b[39mimport\u001b[39;00m encoder \u001b[39mas\u001b[39;00m encoder_util\n\u001b[0;32m---> 34\u001b[0m \u001b[39mfrom\u001b[39;00m \u001b[39mtensorboard\u001b[39;00m\u001b[39m.\u001b[39;00m\u001b[39mplugins\u001b[39;00m\u001b[39m.\u001b[39;00m\u001b[39maudio\u001b[39;00m \u001b[39mimport\u001b[39;00m metadata\n\u001b[1;32m     35\u001b[0m \u001b[39mfrom\u001b[39;00m \u001b[39mtensorboard\u001b[39;00m\u001b[39m.\u001b[39;00m\u001b[39mplugins\u001b[39;00m\u001b[39m.\u001b[39;00m\u001b[39maudio\u001b[39;00m \u001b[39mimport\u001b[39;00m summary_v2\n\u001b[1;32m     38\u001b[0m \u001b[39m# Export V2 versions.\u001b[39;00m\n",
      "File \u001b[0;32m~/.conda/envs/ai-mind/lib/python3.9/site-packages/tensorboard/plugins/audio/metadata.py:18\u001b[0m, in \u001b[0;36m<module>\u001b[0;34m\u001b[0m\n\u001b[1;32m      1\u001b[0m \u001b[39m# Copyright 2017 The TensorFlow Authors. All Rights Reserved.\u001b[39;00m\n\u001b[1;32m      2\u001b[0m \u001b[39m#\u001b[39;00m\n\u001b[1;32m      3\u001b[0m \u001b[39m# Licensed under the Apache License, Version 2.0 (the \"License\");\u001b[39;00m\n\u001b[0;32m   (...)\u001b[0m\n\u001b[1;32m     13\u001b[0m \u001b[39m# limitations under the License.\u001b[39;00m\n\u001b[1;32m     14\u001b[0m \u001b[39m# ==============================================================================\u001b[39;00m\n\u001b[1;32m     15\u001b[0m \u001b[39m\"\"\"Internal information about the audio plugin.\"\"\"\u001b[39;00m\n\u001b[0;32m---> 18\u001b[0m \u001b[39mfrom\u001b[39;00m \u001b[39mtensorboard\u001b[39;00m\u001b[39m.\u001b[39;00m\u001b[39mcompat\u001b[39;00m\u001b[39m.\u001b[39;00m\u001b[39mproto\u001b[39;00m \u001b[39mimport\u001b[39;00m summary_pb2\n\u001b[1;32m     19\u001b[0m \u001b[39mfrom\u001b[39;00m \u001b[39mtensorboard\u001b[39;00m\u001b[39m.\u001b[39;00m\u001b[39mplugins\u001b[39;00m\u001b[39m.\u001b[39;00m\u001b[39maudio\u001b[39;00m \u001b[39mimport\u001b[39;00m plugin_data_pb2\n\u001b[1;32m     21\u001b[0m PLUGIN_NAME \u001b[39m=\u001b[39m \u001b[39m\"\u001b[39m\u001b[39maudio\u001b[39m\u001b[39m\"\u001b[39m\n",
      "File \u001b[0;32m~/.conda/envs/ai-mind/lib/python3.9/site-packages/tensorboard/compat/proto/summary_pb2.py:17\u001b[0m, in \u001b[0;36m<module>\u001b[0;34m\u001b[0m\n\u001b[1;32m     12\u001b[0m \u001b[39m# @@protoc_insertion_point(imports)\u001b[39;00m\n\u001b[1;32m     14\u001b[0m _sym_db \u001b[39m=\u001b[39m _symbol_database\u001b[39m.\u001b[39mDefault()\n\u001b[0;32m---> 17\u001b[0m \u001b[39mfrom\u001b[39;00m \u001b[39mtensorboard\u001b[39;00m\u001b[39m.\u001b[39;00m\u001b[39mcompat\u001b[39;00m\u001b[39m.\u001b[39;00m\u001b[39mproto\u001b[39;00m \u001b[39mimport\u001b[39;00m tensor_pb2 \u001b[39mas\u001b[39;00m tensorboard_dot_compat_dot_proto_dot_tensor__pb2\n\u001b[1;32m     20\u001b[0m DESCRIPTOR \u001b[39m=\u001b[39m _descriptor\u001b[39m.\u001b[39mFileDescriptor(\n\u001b[1;32m     21\u001b[0m   name\u001b[39m=\u001b[39m\u001b[39m'\u001b[39m\u001b[39mtensorboard/compat/proto/summary.proto\u001b[39m\u001b[39m'\u001b[39m,\n\u001b[1;32m     22\u001b[0m   package\u001b[39m=\u001b[39m\u001b[39m'\u001b[39m\u001b[39mtensorboard\u001b[39m\u001b[39m'\u001b[39m,\n\u001b[0;32m   (...)\u001b[0m\n\u001b[1;32m     26\u001b[0m   ,\n\u001b[1;32m     27\u001b[0m   dependencies\u001b[39m=\u001b[39m[tensorboard_dot_compat_dot_proto_dot_tensor__pb2\u001b[39m.\u001b[39mDESCRIPTOR,])\n\u001b[1;32m     29\u001b[0m _DATACLASS \u001b[39m=\u001b[39m _descriptor\u001b[39m.\u001b[39mEnumDescriptor(\n\u001b[1;32m     30\u001b[0m   name\u001b[39m=\u001b[39m\u001b[39m'\u001b[39m\u001b[39mDataClass\u001b[39m\u001b[39m'\u001b[39m,\n\u001b[1;32m     31\u001b[0m   full_name\u001b[39m=\u001b[39m\u001b[39m'\u001b[39m\u001b[39mtensorboard.DataClass\u001b[39m\u001b[39m'\u001b[39m,\n\u001b[0;32m   (...)\u001b[0m\n\u001b[1;32m     55\u001b[0m   serialized_end\u001b[39m=\u001b[39m\u001b[39m1228\u001b[39m,\n\u001b[1;32m     56\u001b[0m )\n",
      "File \u001b[0;32m~/.conda/envs/ai-mind/lib/python3.9/site-packages/tensorboard/compat/proto/tensor_pb2.py:16\u001b[0m, in \u001b[0;36m<module>\u001b[0;34m\u001b[0m\n\u001b[1;32m     11\u001b[0m \u001b[39m# @@protoc_insertion_point(imports)\u001b[39;00m\n\u001b[1;32m     13\u001b[0m _sym_db \u001b[39m=\u001b[39m _symbol_database\u001b[39m.\u001b[39mDefault()\n\u001b[0;32m---> 16\u001b[0m \u001b[39mfrom\u001b[39;00m \u001b[39mtensorboard\u001b[39;00m\u001b[39m.\u001b[39;00m\u001b[39mcompat\u001b[39;00m\u001b[39m.\u001b[39;00m\u001b[39mproto\u001b[39;00m \u001b[39mimport\u001b[39;00m resource_handle_pb2 \u001b[39mas\u001b[39;00m tensorboard_dot_compat_dot_proto_dot_resource__handle__pb2\n\u001b[1;32m     17\u001b[0m \u001b[39mfrom\u001b[39;00m \u001b[39mtensorboard\u001b[39;00m\u001b[39m.\u001b[39;00m\u001b[39mcompat\u001b[39;00m\u001b[39m.\u001b[39;00m\u001b[39mproto\u001b[39;00m \u001b[39mimport\u001b[39;00m tensor_shape_pb2 \u001b[39mas\u001b[39;00m tensorboard_dot_compat_dot_proto_dot_tensor__shape__pb2\n\u001b[1;32m     18\u001b[0m \u001b[39mfrom\u001b[39;00m \u001b[39mtensorboard\u001b[39;00m\u001b[39m.\u001b[39;00m\u001b[39mcompat\u001b[39;00m\u001b[39m.\u001b[39;00m\u001b[39mproto\u001b[39;00m \u001b[39mimport\u001b[39;00m types_pb2 \u001b[39mas\u001b[39;00m tensorboard_dot_compat_dot_proto_dot_types__pb2\n",
      "File \u001b[0;32m~/.conda/envs/ai-mind/lib/python3.9/site-packages/tensorboard/compat/proto/resource_handle_pb2.py:16\u001b[0m, in \u001b[0;36m<module>\u001b[0;34m\u001b[0m\n\u001b[1;32m     11\u001b[0m \u001b[39m# @@protoc_insertion_point(imports)\u001b[39;00m\n\u001b[1;32m     13\u001b[0m _sym_db \u001b[39m=\u001b[39m _symbol_database\u001b[39m.\u001b[39mDefault()\n\u001b[0;32m---> 16\u001b[0m \u001b[39mfrom\u001b[39;00m \u001b[39mtensorboard\u001b[39;00m\u001b[39m.\u001b[39;00m\u001b[39mcompat\u001b[39;00m\u001b[39m.\u001b[39;00m\u001b[39mproto\u001b[39;00m \u001b[39mimport\u001b[39;00m tensor_shape_pb2 \u001b[39mas\u001b[39;00m tensorboard_dot_compat_dot_proto_dot_tensor__shape__pb2\n\u001b[1;32m     17\u001b[0m \u001b[39mfrom\u001b[39;00m \u001b[39mtensorboard\u001b[39;00m\u001b[39m.\u001b[39;00m\u001b[39mcompat\u001b[39;00m\u001b[39m.\u001b[39;00m\u001b[39mproto\u001b[39;00m \u001b[39mimport\u001b[39;00m types_pb2 \u001b[39mas\u001b[39;00m tensorboard_dot_compat_dot_proto_dot_types__pb2\n\u001b[1;32m     20\u001b[0m DESCRIPTOR \u001b[39m=\u001b[39m _descriptor\u001b[39m.\u001b[39mFileDescriptor(\n\u001b[1;32m     21\u001b[0m   name\u001b[39m=\u001b[39m\u001b[39m'\u001b[39m\u001b[39mtensorboard/compat/proto/resource_handle.proto\u001b[39m\u001b[39m'\u001b[39m,\n\u001b[1;32m     22\u001b[0m   package\u001b[39m=\u001b[39m\u001b[39m'\u001b[39m\u001b[39mtensorboard\u001b[39m\u001b[39m'\u001b[39m,\n\u001b[0;32m   (...)\u001b[0m\n\u001b[1;32m     26\u001b[0m   ,\n\u001b[1;32m     27\u001b[0m   dependencies\u001b[39m=\u001b[39m[tensorboard_dot_compat_dot_proto_dot_tensor__shape__pb2\u001b[39m.\u001b[39mDESCRIPTOR,tensorboard_dot_compat_dot_proto_dot_types__pb2\u001b[39m.\u001b[39mDESCRIPTOR,])\n",
      "File \u001b[0;32m~/.conda/envs/ai-mind/lib/python3.9/site-packages/tensorboard/compat/proto/tensor_shape_pb2.py:18\u001b[0m, in \u001b[0;36m<module>\u001b[0;34m\u001b[0m\n\u001b[1;32m     11\u001b[0m \u001b[39m# @@protoc_insertion_point(imports)\u001b[39;00m\n\u001b[1;32m     13\u001b[0m _sym_db \u001b[39m=\u001b[39m _symbol_database\u001b[39m.\u001b[39mDefault()\n\u001b[0;32m---> 18\u001b[0m DESCRIPTOR \u001b[39m=\u001b[39m _descriptor\u001b[39m.\u001b[39;49mFileDescriptor(\n\u001b[1;32m     19\u001b[0m   name\u001b[39m=\u001b[39;49m\u001b[39m'\u001b[39;49m\u001b[39mtensorboard/compat/proto/tensor_shape.proto\u001b[39;49m\u001b[39m'\u001b[39;49m,\n\u001b[1;32m     20\u001b[0m   package\u001b[39m=\u001b[39;49m\u001b[39m'\u001b[39;49m\u001b[39mtensorboard\u001b[39;49m\u001b[39m'\u001b[39;49m,\n\u001b[1;32m     21\u001b[0m   syntax\u001b[39m=\u001b[39;49m\u001b[39m'\u001b[39;49m\u001b[39mproto3\u001b[39;49m\u001b[39m'\u001b[39;49m,\n\u001b[1;32m     22\u001b[0m   serialized_options\u001b[39m=\u001b[39;49m_b(\u001b[39m'\u001b[39;49m\u001b[39m\\n\u001b[39;49;00m\u001b[39m\\030\u001b[39;49;00m\u001b[39morg.tensorflow.frameworkB\u001b[39;49m\u001b[39m\\021\u001b[39;49;00m\u001b[39mTensorShapeProtosP\u001b[39;49m\u001b[39m\\001\u001b[39;49;00m\u001b[39mZSgithub.com/tensorflow/tensorflow/tensorflow/go/core/framework/tensor_shape_go_proto\u001b[39;49m\u001b[39m\\370\u001b[39;49;00m\u001b[39m\\001\u001b[39;49;00m\u001b[39m\\001\u001b[39;49;00m\u001b[39m'\u001b[39;49m),\n\u001b[1;32m     23\u001b[0m   serialized_pb\u001b[39m=\u001b[39;49m_b(\u001b[39m'\u001b[39;49m\u001b[39m\\n\u001b[39;49;00m\u001b[39m+tensorboard/compat/proto/tensor_shape.proto\u001b[39;49m\u001b[39m\\x12\u001b[39;49;00m\u001b[39m\\x0b\u001b[39;49;00m\u001b[39mtensorboard\u001b[39;49m\u001b[39m\\\"\u001b[39;49;00m\u001b[39m{\u001b[39;49m\u001b[39m\\n\u001b[39;49;00m\u001b[39m\\x10\u001b[39;49;00m\u001b[39mTensorShapeProto\u001b[39;49m\u001b[39m\\x12\u001b[39;49;00m\u001b[39m.\u001b[39;49m\u001b[39m\\n\u001b[39;49;00m\u001b[39m\\x03\u001b[39;49;00m\u001b[39m\\x64\u001b[39;49;00m\u001b[39mim\u001b[39;49m\u001b[39m\\x18\u001b[39;49;00m\u001b[39m\\x02\u001b[39;49;00m\u001b[39m \u001b[39;49m\u001b[39m\\x03\u001b[39;49;00m\u001b[39m(\u001b[39;49m\u001b[39m\\x0b\u001b[39;49;00m\u001b[39m\\x32\u001b[39;49;00m\u001b[39m!.tensorboard.TensorShapeProto.Dim\u001b[39;49m\u001b[39m\\x12\u001b[39;49;00m\u001b[39m\\x14\u001b[39;49;00m\u001b[39m\\n\u001b[39;49;00m\u001b[39m\\x0c\u001b[39;49;00m\u001b[39munknown_rank\u001b[39;49m\u001b[39m\\x18\u001b[39;49;00m\u001b[39m\\x03\u001b[39;49;00m\u001b[39m \u001b[39;49m\u001b[39m\\x01\u001b[39;49;00m\u001b[39m(\u001b[39;49m\u001b[39m\\x08\u001b[39;49;00m\u001b[39m\\x1a\u001b[39;49;00m\u001b[39m!\u001b[39;49m\u001b[39m\\n\u001b[39;49;00m\u001b[39m\\x03\u001b[39;49;00m\u001b[39m\\x44\u001b[39;49;00m\u001b[39mim\u001b[39;49m\u001b[39m\\x12\u001b[39;49;00m\u001b[39m\\x0c\u001b[39;49;00m\u001b[39m\\n\u001b[39;49;00m\u001b[39m\\x04\u001b[39;49;00m\u001b[39msize\u001b[39;49m\u001b[39m\\x18\u001b[39;49;00m\u001b[39m\\x01\u001b[39;49;00m\u001b[39m \u001b[39;49m\u001b[39m\\x01\u001b[39;49;00m\u001b[39m(\u001b[39;49m\u001b[39m\\x03\u001b[39;49;00m\u001b[39m\\x12\u001b[39;49;00m\u001b[39m\\x0c\u001b[39;49;00m\u001b[39m\\n\u001b[39;49;00m\u001b[39m\\x04\u001b[39;49;00m\u001b[39mname\u001b[39;49m\u001b[39m\\x18\u001b[39;49;00m\u001b[39m\\x02\u001b[39;49;00m\u001b[39m \u001b[39;49m\u001b[39m\\x01\u001b[39;49;00m\u001b[39m(\u001b[39;49m\u001b[39m\\t\u001b[39;49;00m\u001b[39mB\u001b[39;49m\u001b[39m\\x87\u001b[39;49;00m\u001b[39m\\x01\u001b[39;49;00m\u001b[39m\\n\u001b[39;49;00m\u001b[39m\\x18\u001b[39;49;00m\u001b[39morg.tensorflow.frameworkB\u001b[39;49m\u001b[39m\\x11\u001b[39;49;00m\u001b[39mTensorShapeProtosP\u001b[39;49m\u001b[39m\\x01\u001b[39;49;00m\u001b[39mZSgithub.com/tensorflow/tensorflow/tensorflow/go/core/framework/tensor_shape_go_proto\u001b[39;49m\u001b[39m\\xf8\u001b[39;49;00m\u001b[39m\\x01\u001b[39;49;00m\u001b[39m\\x01\u001b[39;49;00m\u001b[39m\\x62\u001b[39;49;00m\u001b[39m\\x06\u001b[39;49;00m\u001b[39mproto3\u001b[39;49m\u001b[39m'\u001b[39;49m)\n\u001b[1;32m     24\u001b[0m )\n\u001b[1;32m     29\u001b[0m _TENSORSHAPEPROTO_DIM \u001b[39m=\u001b[39m _descriptor\u001b[39m.\u001b[39mDescriptor(\n\u001b[1;32m     30\u001b[0m   name\u001b[39m=\u001b[39m\u001b[39m'\u001b[39m\u001b[39mDim\u001b[39m\u001b[39m'\u001b[39m,\n\u001b[1;32m     31\u001b[0m   full_name\u001b[39m=\u001b[39m\u001b[39m'\u001b[39m\u001b[39mtensorboard.TensorShapeProto.Dim\u001b[39m\u001b[39m'\u001b[39m,\n\u001b[0;32m   (...)\u001b[0m\n\u001b[1;32m     63\u001b[0m   serialized_end\u001b[39m=\u001b[39m\u001b[39m183\u001b[39m,\n\u001b[1;32m     64\u001b[0m )\n\u001b[1;32m     66\u001b[0m _TENSORSHAPEPROTO \u001b[39m=\u001b[39m _descriptor\u001b[39m.\u001b[39mDescriptor(\n\u001b[1;32m     67\u001b[0m   name\u001b[39m=\u001b[39m\u001b[39m'\u001b[39m\u001b[39mTensorShapeProto\u001b[39m\u001b[39m'\u001b[39m,\n\u001b[1;32m     68\u001b[0m   full_name\u001b[39m=\u001b[39m\u001b[39m'\u001b[39m\u001b[39mtensorboard.TensorShapeProto\u001b[39m\u001b[39m'\u001b[39m,\n\u001b[0;32m   (...)\u001b[0m\n\u001b[1;32m    100\u001b[0m   serialized_end\u001b[39m=\u001b[39m\u001b[39m183\u001b[39m,\n\u001b[1;32m    101\u001b[0m )\n",
      "File \u001b[0;32m~/.conda/envs/ai-mind/lib/python3.9/site-packages/google/protobuf/descriptor.py:982\u001b[0m, in \u001b[0;36mFileDescriptor.__new__\u001b[0;34m(cls, name, package, options, serialized_options, serialized_pb, dependencies, public_dependencies, syntax, pool, create_key)\u001b[0m\n\u001b[1;32m    980\u001b[0m     \u001b[39mraise\u001b[39;00m \u001b[39mRuntimeError\u001b[39;00m(\u001b[39m'\u001b[39m\u001b[39mPlease link in cpp generated lib for \u001b[39m\u001b[39m%s\u001b[39;00m\u001b[39m'\u001b[39m \u001b[39m%\u001b[39m (name))\n\u001b[1;32m    981\u001b[0m \u001b[39melif\u001b[39;00m serialized_pb:\n\u001b[0;32m--> 982\u001b[0m   \u001b[39mreturn\u001b[39;00m _message\u001b[39m.\u001b[39;49mdefault_pool\u001b[39m.\u001b[39;49mAddSerializedFile(serialized_pb)\n\u001b[1;32m    983\u001b[0m \u001b[39melse\u001b[39;00m:\n\u001b[1;32m    984\u001b[0m   \u001b[39mreturn\u001b[39;00m \u001b[39msuper\u001b[39m(FileDescriptor, \u001b[39mcls\u001b[39m)\u001b[39m.\u001b[39m\u001b[39m__new__\u001b[39m(\u001b[39mcls\u001b[39m)\n",
      "\u001b[0;31mTypeError\u001b[0m: Couldn't build proto file into descriptor pool!\nInvalid proto descriptor for file \"tensorboard/compat/proto/tensor_shape.proto\":\n  tensorboard.TensorShapeProto.dim: \"tensorboard.TensorShapeProto.dim\" is already defined in file \"tensorboard/src/tensor_shape.proto\".\n  tensorboard.TensorShapeProto.unknown_rank: \"tensorboard.TensorShapeProto.unknown_rank\" is already defined in file \"tensorboard/src/tensor_shape.proto\".\n  tensorboard.TensorShapeProto.Dim.size: \"tensorboard.TensorShapeProto.Dim.size\" is already defined in file \"tensorboard/src/tensor_shape.proto\".\n  tensorboard.TensorShapeProto.Dim.name: \"tensorboard.TensorShapeProto.Dim.name\" is already defined in file \"tensorboard/src/tensor_shape.proto\".\n  tensorboard.TensorShapeProto.Dim: \"tensorboard.TensorShapeProto.Dim\" is already defined in file \"tensorboard/src/tensor_shape.proto\".\n  tensorboard.TensorShapeProto: \"tensorboard.TensorShapeProto\" is already defined in file \"tensorboard/src/tensor_shape.proto\".\n  tensorboard.TensorShapeProto.dim: \"tensorboard.TensorShapeProto.Dim\" seems to be defined in \"tensorboard/src/tensor_shape.proto\", which is not imported by \"tensorboard/compat/proto/tensor_shape.proto\".  To use it here, please add the necessary import.\n"
     ]
    }
   ],
   "source": [
    "## Standard libraries\n",
    "import os\n",
    "import json\n",
    "import math\n",
    "import numpy as np\n",
    "\n",
    "## Imports for plotting\n",
    "import matplotlib.pyplot as plt\n",
    "#%matplotlib inline\n",
    "#from IPython.display import set_matplotlib_formats\n",
    "from matplotlib.colors import to_rgb\n",
    "import matplotlib\n",
    "#matplotlib.rcParams['lines.linewidth'] = 2.0\n",
    "import seaborn as sns\n",
    "sns.reset_orig()\n",
    "sns.set()\n",
    "\n",
    "## Progress bar\n",
    "from tqdm.notebook import tqdm\n",
    "\n",
    "## PyTorch\n",
    "import torch\n",
    "import torch.nn as nn\n",
    "import torch.nn.functional as F\n",
    "from torch.utils.data import DataLoader\n",
    "import torch.optim as optim\n",
    "from PIL import Image\n",
    "\n",
    "# Torchvision\n",
    "import torchvision\n",
    "from torchvision import transforms\n",
    "from torchvision.datasets.vision import VisionDataset\n",
    "\n",
    "\n",
    "# PyTorch Lightning\n",
    "import pytorch_lightning as pl\n",
    "from pytorch_lightning.callbacks import LearningRateMonitor, ModelCheckpoint\n",
    "\n",
    "# Tensorboard extension (for visualization purposes later)\n",
    "from torch.utils.tensorboard import SummaryWriter\n",
    "%load_ext tensorboard\n",
    "\n",
    "# Path to the  data folder \n",
    "TRAIN_DIR = \"/home/rabink1/D1/vtf_images/tuh/train\"\n",
    "VAL_DIR = \"/home/rabink1/D1/vtf_images/tuh/eval\"\n",
    "\n",
    "# Path to the folder where the pretrained models are saved\n",
    "CHECKPOINT_PATH = \"./saved_models/\"\n",
    "\n",
    "# Setting the seed\n",
    "pl.seed_everything(42)\n",
    "\n",
    "\n",
    "device = torch.device(\"cuda:0\") if torch.cuda.is_available() else torch.device(\"cpu\")\n",
    "print(\"Device:\", device)"
   ]
  },
  {
   "cell_type": "code",
   "execution_count": 2,
   "metadata": {},
   "outputs": [],
   "source": [
    "# Dataloader\n",
    "\n",
    "IMG_EXTENSIONS = ('.jpg', '.jpeg', '.png', '.ppm', '.bmp', '.pgm', '.tif', '.tiff', '.webp', '.npy')\n",
    "\n",
    "def has_file_allowed_extension(filename, extensions):\n",
    "    \"\"\"Checks if a file is an allowed extension.\n",
    "    Args:\n",
    "        filename (string): path to a file\n",
    "        extensions (tuple of strings): extensions to consider (lowercase)\n",
    "    Returns:\n",
    "        bool: True if the filename ends with one of given extensions\n",
    "    \"\"\"\n",
    "    return filename.lower().endswith(extensions)\n",
    "\n",
    "\n",
    "def make_dataset(directory, class_to_idx, extensions=None, is_valid_file=None):\n",
    "    instances = []\n",
    "    directory = os.path.expanduser(directory)\n",
    "    both_none = extensions is None and is_valid_file is None\n",
    "    both_something = extensions is not None and is_valid_file is not None\n",
    "    if both_none or both_something:\n",
    "        raise ValueError(\"Both extensions and is_valid_file cannot be None or not None at the same time\")\n",
    "    if extensions is not None:\n",
    "        def is_valid_file(x):\n",
    "            return has_file_allowed_extension(x, extensions)\n",
    "    for target_class in sorted(class_to_idx.keys()):\n",
    "        class_index = class_to_idx[target_class]\n",
    "        target_dir = os.path.join(directory, target_class)\n",
    "        if not os.path.isdir(target_dir):\n",
    "            continue\n",
    "        for root, _, fnames in sorted(os.walk(target_dir, followlinks=True)):\n",
    "            for fname in sorted(fnames):\n",
    "                path = os.path.join(root, fname)\n",
    "                if is_valid_file(path):\n",
    "                    item = path, class_index\n",
    "                    instances.append(item)\n",
    "    return instances\n",
    "\n",
    "\n",
    "\n",
    "class DatasetFolder(VisionDataset):\n",
    "    def __init__(self, root, loader, extensions=None, transform=None,\n",
    "                 target_transform=None, is_valid_file=None):\n",
    "        super(DatasetFolder, self).__init__(root, transform=transform,\n",
    "                                            target_transform=target_transform)\n",
    "        classes, class_to_idx = self._find_classes(self.root)\n",
    "        samples = make_dataset(self.root, class_to_idx, extensions, is_valid_file)\n",
    "        if len(samples) == 0:\n",
    "            raise (RuntimeError(\n",
    "                \"Found 0 files in subfolders of: \" + self.root + \"\\nSupported extensions are: \" + \",\".join(extensions)))\n",
    "\n",
    "        self.loader = loader\n",
    "        self.extensions = extensions\n",
    "\n",
    "        self.classes = classes\n",
    "        self.class_to_idx = class_to_idx\n",
    "        self.samples = samples\n",
    "        self.targets = [s[1] for s in samples]\n",
    "\n",
    "    def _find_classes(self, dir):\n",
    "        \"\"\"\n",
    "        Finds the class folders in a dataset.\n",
    "        Args:\n",
    "            dir (string): Root directory path.\n",
    "        Returns:\n",
    "            tuple: (classes, class_to_idx) where classes are relative to (dir), and class_to_idx is a dictionary.\n",
    "        Ensures:\n",
    "            No class is a subdirectory of another.\n",
    "        \"\"\"\n",
    "        classes = [d.name for d in os.scandir(dir) if d.is_dir()]\n",
    "        classes.sort()\n",
    "        class_to_idx = {classes[i]: i for i in range(len(classes))}\n",
    "        return classes, class_to_idx\n",
    "\n",
    "    def __getitem__(self, index):\n",
    "        \"\"\"\n",
    "        Args:\n",
    "            index (int): Index\n",
    "        Returns:\n",
    "            tuple: (sample, target) where target is class_index of the target class.\n",
    "        \"\"\"\n",
    "        path, target = self.samples[index]\n",
    "        sample = self.loader(path)\n",
    "        if self.transform is not None:\n",
    "            sample = self.transform(sample)\n",
    "        if self.target_transform is not None:\n",
    "            target = self.target_transform(target)\n",
    "\n",
    "        return sample, target\n",
    "\n",
    "    def __len__(self):\n",
    "        return len(self.samples)\n",
    "    \n",
    "\n",
    "def pil_loader(path):\n",
    "    with open(path, 'rb') as f:\n",
    "        img = Image.open(f)\n",
    "        return img.convert('RGB')\n",
    "\n",
    "\n",
    "def npy_loader(path):\n",
    "    img = np.load(path).astype(\"float32\") \n",
    "    # img=resize(img,(1,30,337500))\n",
    "    #img=np.array(Image.fromarray((img * 255).astype(np.uint8)))\n",
    "    img=torch.from_numpy(img)\n",
    "    return img\n",
    "\n",
    "\n",
    "def accimage_loader(path):\n",
    "    import accimage\n",
    "    try:\n",
    "        return accimage.Image(path)\n",
    "    except IOError:\n",
    "        # Potentially a decoding problem, fall back to PIL.Image\n",
    "        return pil_loader(path)\n",
    "\n",
    "\n",
    "def default_loader(path):\n",
    "    from torchvision import get_image_backend\n",
    "    if get_image_backend() == 'accimage':\n",
    "        return accimage_loader(path)\n",
    "    else:\n",
    "        return pil_loader(path)\n",
    "\n",
    "\n",
    "\n",
    "class ImageFolder(DatasetFolder):\n",
    "    def __init__(self, root, transform=None, target_transform=None,\n",
    "                 loader=npy_loader, is_valid_file=None):\n",
    "        super(ImageFolder, self).__init__(root, loader, IMG_EXTENSIONS if is_valid_file is None else None,\n",
    "                                          transform=transform,\n",
    "                                          target_transform=target_transform,\n",
    "                                          is_valid_file=is_valid_file)\n",
    "        self.imgs = self.samples\n",
    "\n",
    "\n",
    "\n",
    "\n",
    "\n"
   ]
  },
  {
   "cell_type": "markdown",
   "metadata": {},
   "source": [
    "# Model"
   ]
  },
  {
   "cell_type": "code",
   "execution_count": 3,
   "metadata": {},
   "outputs": [],
   "source": [
    "\n",
    "class Encoder(nn.Module):\n",
    "\n",
    "    def __init__(self,\n",
    "                 num_input_channels : int,\n",
    "                 base_channel_size : int,\n",
    "                 latent_dim : int,\n",
    "                 act_fn : object = nn.GELU):\n",
    "        \"\"\"\n",
    "        Inputs:\n",
    "            - num_input_channels : Number of input channels of the image. For EEG, this parameter is 118\n",
    "            - base_channel_size : Number of channels we use in the first convolutional layers. Deeper layers might use a duplicate of it.\n",
    "            - latent_dim : Dimensionality of latent representation z\n",
    "            - act_fn : Activation function used throughout the encoder network\n",
    "        \"\"\"\n",
    "        super().__init__()\n",
    "        c_hid = base_channel_size\n",
    "        self.net = nn.Sequential(\n",
    "            nn.Conv2d(num_input_channels, c_hid, kernel_size=3, padding=1, stride=2), # 19x500 => 10x250\n",
    "            act_fn(),\n",
    "            nn.Conv2d(c_hid, c_hid, kernel_size=3, padding=1),\n",
    "            act_fn(),\n",
    "            nn.Conv2d(c_hid, 2*c_hid, kernel_size=3, padding=1, stride=2), # 10x16 => 5x125\n",
    "             act_fn(),\n",
    "            nn.Conv2d(2*c_hid, 2*c_hid, kernel_size=3, padding=1),\n",
    "            act_fn(),\n",
    "            nn.Conv2d(2*c_hid, 2*c_hid, kernel_size=3, padding=1, stride=2), # 5x125 => 3x63\n",
    "            act_fn(),\n",
    "            nn.Flatten(), # Image grid to single feature vector\n",
    "            nn.Linear(3*63*128, latent_dim)\n",
    "\n",
    "        )\n",
    "\n",
    "    def forward(self, x):\n",
    "        return self.net(x)"
   ]
  },
  {
   "cell_type": "code",
   "execution_count": 4,
   "metadata": {},
   "outputs": [],
   "source": [
    "class Decoder(nn.Module):\n",
    "\n",
    "    def __init__(self,\n",
    "                 num_input_channels : int,\n",
    "                 base_channel_size : int,\n",
    "                 latent_dim : int,\n",
    "                 act_fn : object = nn.GELU):\n",
    "        \"\"\"\n",
    "        Inputs:\n",
    "            - num_input_channels : Number of channels of the image to reconstruct. For EEG, this parameter is 118\n",
    "            - base_channel_size : Number of channels we use in the last convolutional layers. Early layers might use a duplicate of it.\n",
    "            - latent_dim : Dimensionality of latent representation z\n",
    "            - act_fn : Activation function used throughout the decoder network\n",
    "        \"\"\"\n",
    "        super().__init__()\n",
    "        c_hid = base_channel_size\n",
    "        self.linear = nn.Sequential(\n",
    "            nn.Linear(latent_dim, 2*3*63*c_hid),\n",
    "            act_fn()\n",
    "        )\n",
    "        self.net = nn.Sequential(\n",
    "            nn.ConvTranspose2d(2*c_hid, 2*c_hid, kernel_size=3, output_padding=0, padding=1, stride=2), # 3x63 => 5x125\n",
    "            act_fn(),\n",
    "            nn.Conv2d(2*c_hid, 2*c_hid, kernel_size=3, padding=1),\n",
    "            act_fn(),\n",
    "            nn.ConvTranspose2d(2*c_hid, c_hid, kernel_size=3, output_padding=1, padding=1, stride=2), # 5x125=> 10x250\n",
    "            act_fn(),\n",
    "\n",
    "            nn.Conv2d(c_hid, c_hid, kernel_size=3, padding=1),\n",
    "            act_fn(),\n",
    "            nn.ConvTranspose2d(c_hid, num_input_channels, kernel_size=3, output_padding=(0,1), padding=1, stride=2), # 5 x125 => 19x500\n",
    "            nn.Tanh() # The input images is scaled between -1 and 1, hence the output has to be bounded as well\n",
    "\n",
    "        )\n",
    "\n",
    "    def forward(self, x):\n",
    "        x = self.linear(x)\n",
    "        x = x.reshape(x.shape[0], -1, 3, 63)\n",
    "        x = self.net(x)\n",
    "        return x"
   ]
  },
  {
   "cell_type": "code",
   "execution_count": 5,
   "metadata": {},
   "outputs": [],
   "source": [
    "def normalise(x):\n",
    "    norm=(2*x - x.max()- x.min())/(x.max() - x.min())\n",
    "    return norm \n",
    "\n",
    "def norm_unit8(image):\n",
    "    image /= image.max()/255.0 \n",
    "    return image\n",
    "\n",
    "train_transforms = transforms.Compose([\n",
    "        #transforms.ToTensor(),\n",
    "        transforms.Lambda(normalise)\n",
    "        #transforms.Lambda(norm_unit8)\n",
    "    ])\n",
    "val_transforms = transforms.Compose([\n",
    "       #transforms.ToTensor(),\n",
    "        transforms.Lambda(normalise)\n",
    "        #transforms.Lambda(norm_unit8)\n",
    "\n",
    "    ])\n",
    "\n",
    "train_dataset = ImageFolder(TRAIN_DIR, transform=train_transforms)\n",
    "val_dataset = ImageFolder(VAL_DIR, transform=val_transforms)\n",
    "\n",
    "train_loader = DataLoader(train_dataset,\n",
    "                              batch_size=32,\n",
    "                              shuffle=False,\n",
    "                              num_workers=4,\n",
    "                              # pin_memory=True if device else False\n",
    "                              )\n",
    "val_loader = DataLoader(val_dataset,\n",
    "                            batch_size=32,\n",
    "                            shuffle=False,\n",
    "                            num_workers=4,\n",
    "                            # pin_memory=True if device else False\n",
    "                            )\n",
    "\n",
    "def get_train_subjects(num):\n",
    "    return torch.stack([train_dataset[i][0] for  i in range(num)], dim=0)"
   ]
  },
  {
   "cell_type": "code",
   "execution_count": 6,
   "metadata": {},
   "outputs": [],
   "source": [
    "class Autoencoder(pl.LightningModule):\n",
    "\n",
    "    def __init__(self,\n",
    "                 base_channel_size: int,\n",
    "                 latent_dim: int,\n",
    "                 encoder_class : object = Encoder,\n",
    "                 decoder_class : object = Decoder,\n",
    "                 num_input_channels: int = 118,\n",
    "                 width: int = 500,\n",
    "                 height: int = 19):\n",
    "        super().__init__()\n",
    "        # Saving hyperparameters of autoencoder\n",
    "        self.save_hyperparameters()\n",
    "        # Creating encoder and decoder\n",
    "        self.encoder = encoder_class(num_input_channels, base_channel_size, latent_dim)\n",
    "        self.decoder = decoder_class(num_input_channels, base_channel_size, latent_dim)\n",
    "        # Example input array needed for visualizing the graph of the network\n",
    "        self.example_input_array = torch.zeros(2, num_input_channels, width, height)\n",
    "\n",
    "    def forward(self, x):\n",
    "        \"\"\"\n",
    "        The forward function takes in an image and returns the reconstructed image\n",
    "        \"\"\"\n",
    "        z = self.encoder(x)\n",
    "        x_hat = self.decoder(z)\n",
    "        return x_hat\n",
    "\n",
    "    def _get_reconstruction_loss(self, batch):\n",
    "        \"\"\"\n",
    "        Given a batch of images, this function returns the reconstruction loss (MSE in our case)\n",
    "        \"\"\"\n",
    "        x, _ = batch # We do not need the labels\n",
    "        x_hat = self.forward(x)\n",
    "        loss = F.mse_loss(x, x_hat, reduction=\"none\")\n",
    "        loss = loss.sum(dim=[1,2,3]).mean(dim=[0])\n",
    "        return loss\n",
    "\n",
    "    def configure_optimizers(self):\n",
    "        optimizer = optim.Adam(self.parameters(), lr=1e-3)\n",
    "        # Using a scheduler is optional but can be helpful.\n",
    "        # The scheduler reduces the LR if the validation performance hasn't improved for the last N epochs\n",
    "        scheduler = optim.lr_scheduler.ReduceLROnPlateau(optimizer,\n",
    "                                                         mode='min',\n",
    "                                                         factor=0.2,\n",
    "                                                         patience=20,\n",
    "                                                         min_lr=5e-5)\n",
    "        return {\"optimizer\": optimizer, \"lr_scheduler\": scheduler, \"monitor\": \"val_loss\"}\n",
    "\n",
    "    def training_step(self, batch, batch_idx):\n",
    "        loss = self._get_reconstruction_loss(batch)\n",
    "        self.log('train_loss', loss)\n",
    "        return loss\n",
    "\n",
    "    def validation_step(self, batch, batch_idx):\n",
    "        loss = self._get_reconstruction_loss(batch)\n",
    "        self.log('val_loss', loss)\n",
    "\n",
    "    def test_step(self, batch, batch_idx):\n",
    "        loss = self._get_reconstruction_loss(batch)\n",
    "        self.log('test_loss', loss)"
   ]
  },
  {
   "cell_type": "code",
   "execution_count": 7,
   "metadata": {},
   "outputs": [],
   "source": [
    "class GenerateCallback(pl.Callback):\n",
    "\n",
    "    def __init__(self, input_imgs, every_n_epochs=1):\n",
    "        super().__init__()\n",
    "        self.input_imgs = input_imgs # Images to reconstruct during training\n",
    "        self.every_n_epochs = every_n_epochs # Only save those images every N epochs (otherwise tensorboard gets quite large)\n",
    "\n",
    "    def on_train_epoch_end(self, trainer, pl_module):\n",
    "        if trainer.current_epoch % self.every_n_epochs == 0:\n",
    "            # Reconstruct images\n",
    "            input_imgs = self.input_imgs.to(pl_module.device)\n",
    "            with torch.no_grad():\n",
    "                pl_module.eval()\n",
    "                reconst_imgs = pl_module(input_imgs)\n",
    "                pl_module.train()\n",
    "            # Plot and add to tensorboard\n",
    "            imgs = torch.stack([input_imgs, reconst_imgs], dim=1).flatten(0,1)\n",
    "            grid = torchvision.utils.make_grid(imgs, nrow=2, normalize=True, range=(-1,1))\n",
    "            trainer.logger.experiment.add_image(\"Reconstructions\", grid, global_step=trainer.global_step)"
   ]
  },
  {
   "cell_type": "code",
   "execution_count": 8,
   "metadata": {},
   "outputs": [],
   "source": [
    "def train_eeg(latent_dim):\n",
    "    # Create a PyTorch Lightning trainer with the generation callback\n",
    "    trainer = pl.Trainer(default_root_dir=os.path.join(CHECKPOINT_PATH, f\"EEG_{latent_dim}\"),\n",
    "                         accelerator=\"gpu\" if str(device).startswith(\"cuda\") else \"cpu\",\n",
    "                         devices=1,\n",
    "                         max_epochs=500,\n",
    "                         callbacks=[ModelCheckpoint(save_weights_only=True),\n",
    "                                   # GenerateCallback(get_train_subjects(8), every_n_epochs=10),\n",
    "                                    LearningRateMonitor(\"epoch\")])\n",
    "    trainer.logger._log_graph = True         # If True, we plot the computation graph in tensorboard\n",
    "    trainer.logger._default_hp_metric = None # Optional logging argument that we don't need\n",
    "\n",
    "    # Check whether pretrained model exists. If yes, load it and skip training\n",
    "    pretrained_filename = os.path.join(CHECKPOINT_PATH, f\"EEG_{latent_dim}.ckpt\")\n",
    "    if os.path.isfile(pretrained_filename):\n",
    "        print(\"Found pretrained model, loading...\")\n",
    "        model = Autoencoder.load_from_checkpoint(pretrained_filename)\n",
    "    else:\n",
    "        model = Autoencoder(base_channel_size=64, latent_dim=latent_dim)\n",
    "        trainer.fit(model, train_loader, val_loader)\n",
    "    # Test best model on validation and test set\n",
    "    val_result = trainer.test(model, val_loader, verbose=False)\n",
    "    #test_result = trainer.test(model, test_loader, verbose=False)\n",
    "    #result = {\"test\": test_result, \"val\": val_result}\n",
    "    result = {\"val\": val_result}\n",
    "    return model, result"
   ]
  },
  {
   "cell_type": "code",
   "execution_count": null,
   "metadata": {},
   "outputs": [],
   "source": [
    "model_dict = {}\n",
    "for latent_dim in [64, 128, 256]:\n",
    "    model_ld, result_ld = train_eeg(latent_dim)\n",
    "    model_dict[latent_dim] = {\"model\": model_ld, \"result\": result_ld}"
   ]
  },
  {
   "cell_type": "code",
   "execution_count": 9,
   "metadata": {},
   "outputs": [
    {
     "data": {
      "text/plain": [
       "<All keys matched successfully>"
      ]
     },
     "execution_count": 9,
     "metadata": {},
     "output_type": "execute_result"
    }
   ],
   "source": [
    "# Load the saved model \n",
    "\n",
    "model=Autoencoder(base_channel_size=64, latent_dim=128)\n",
    "checkpoint=torch.load(\"/home/rabink1/EEG_Encoder/saved_models/EEG_128/lightning_logs/version_445832/checkpoints/epoch=499-step=42500.ckpt\")\n",
    "model.load_state_dict(checkpoint[\"state_dict\"])"
   ]
  },
  {
   "cell_type": "code",
   "execution_count": 11,
   "metadata": {},
   "outputs": [
    {
     "data": {
      "text/plain": [
       "(torch.Size([2, 118, 19, 500]), torch.Size([19, 500]))"
      ]
     },
     "execution_count": 11,
     "metadata": {},
     "output_type": "execute_result"
    }
   ],
   "source": [
    "window_number = 50\n",
    "num_of_subjects= 2\n",
    "choose_subject=0 # ranges from 0 to num_of_subjects\n",
    "input_subjects=get_train_subjects(num_of_subjects)\n",
    "input_imgs=input_subjects[choose_subject][window_number]\n",
    "input_subjects.shape,input_imgs.shape\n"
   ]
  },
  {
   "cell_type": "code",
   "execution_count": 31,
   "metadata": {},
   "outputs": [
    {
     "name": "stdout",
     "output_type": "stream",
     "text": [
      "torch.Size([2, 118, 19, 500])\n",
      "torch.Size([4, 118, 19, 500])\n"
     ]
    },
    {
     "data": {
      "text/plain": [
       "torch.Size([4, 1, 19, 500])"
      ]
     },
     "execution_count": 31,
     "metadata": {},
     "output_type": "execute_result"
    }
   ],
   "source": [
    "\n",
    "#def visualize_reconstructions(model, input_subjects):\n",
    "    # Reconstruct images\n",
    "model.eval()\n",
    "with torch.no_grad():\n",
    "    reconst_imgs = model(input_subjects.to(model.device))\n",
    "reconst_imgs = reconst_imgs.cpu()\n",
    "print(reconst_imgs.shape)\n",
    "\n",
    "# Plotting\n",
    "imgs = torch.stack([input_subjects, reconst_imgs], dim=1).flatten(0,1)\n",
    "\n",
    "print(imgs.shape)\n",
    "imgs[:,0,:,:].unsqueeze(1).shape"
   ]
  },
  {
   "cell_type": "code",
   "execution_count": 33,
   "metadata": {},
   "outputs": [
    {
     "name": "stdout",
     "output_type": "stream",
     "text": [
      "torch.Size([86, 504, 3])\n"
     ]
    },
    {
     "data": {
      "image/png": "[encoded data removed]",
      "text/plain": [
       "<Figure size 2160x2160 with 1 Axes>"
      ]
     },
     "metadata": {},
     "output_type": "display_data"
    }
   ],
   "source": [
    "grid = torchvision.utils.make_grid(imgs[:,0,:,:].unsqueeze(1), nrow=1, normalize=True, range=(-1,1))\n",
    "\n",
    "grid = grid.permute(1, 2, 0)\n",
    "print(grid.shape)\n",
    "\n",
    "plt.figure(figsize=(30,30))\n",
    "plt.title(f\"Reconstructed from {model.hparams.latent_dim} latents\")\n",
    "plt.imshow(grid,cmap=\"viridis\")\n",
    "plt.axis('off')\n",
    "plt.show()\n"
   ]
  },
  {
   "cell_type": "code",
   "execution_count": 34,
   "metadata": {},
   "outputs": [
    {
     "data": {
      "application/vnd.jupyter.widget-view+json": {
       "model_id": "bf97b065eec243248125d03993504440",
       "version_major": 2,
       "version_minor": 0
      },
      "text/plain": [
       "Encoding images:   0%|          | 0/85 [00:00<?, ?it/s]"
      ]
     },
     "metadata": {},
     "output_type": "display_data"
    }
   ],
   "source": [
    "#Finding similar subjects\n",
    "\n",
    "def embed_imgs(model, data_loader):\n",
    "    # Encode all images in the data_laoder using model, and return both images and encodings\n",
    "    img_list, embed_list = [], []\n",
    "    model.eval()\n",
    "    for imgs, _ in tqdm(data_loader, desc=\"Encoding images\", leave=False):\n",
    "        with torch.no_grad():\n",
    "            z = model.encoder(imgs.to(model.device))\n",
    "        img_list.append(imgs)\n",
    "        embed_list.append(z)\n",
    "    return (torch.cat(img_list, dim=0), torch.cat(embed_list, dim=0))\n",
    "\n",
    "train_img_embeds = embed_imgs(model, train_loader)\n"
   ]
  },
  {
   "cell_type": "code",
   "execution_count": 35,
   "metadata": {},
   "outputs": [
    {
     "data": {
      "application/vnd.jupyter.widget-view+json": {
       "model_id": "6eeae262a8ba4696a75030f9db8d3c1e",
       "version_major": 2,
       "version_minor": 0
      },
      "text/plain": [
       "Encoding images:   0%|          | 0/9 [00:00<?, ?it/s]"
      ]
     },
     "metadata": {},
     "output_type": "display_data"
    }
   ],
   "source": [
    "test_img_embeds = embed_imgs(model, val_loader)"
   ]
  },
  {
   "cell_type": "code",
   "execution_count": 105,
   "metadata": {},
   "outputs": [
    {
     "data": {
      "text/plain": [
       "torch.Size([276, 1, 19, 500])"
      ]
     },
     "execution_count": 105,
     "metadata": {},
     "output_type": "execute_result"
    }
   ],
   "source": [
    "test_img_embeds[1][:276].shape\n",
    "val_dataset[2][1]\n",
    "test_img_embeds[0][:276][:,50,:,:].unsqueeze(1).shape"
   ]
  },
  {
   "cell_type": "markdown",
   "metadata": {},
   "source": []
  },
  {
   "cell_type": "code",
   "execution_count": 79,
   "metadata": {},
   "outputs": [],
   "source": [
    "# Create a summary writer\n",
    "writer = SummaryWriter(\"tensorboard/\")"
   ]
  },
  {
   "cell_type": "code",
   "execution_count": 106,
   "metadata": {},
   "outputs": [
    {
     "name": "stdout",
     "output_type": "stream",
     "text": [
      "warning: Embedding dir exists, did you set global_step for add_embedding()?\n"
     ]
    }
   ],
   "source": [
    "NUM_IMGS = len( val_dataset)\n",
    "\n",
    "writer.add_embedding(test_img_embeds[1][:NUM_IMGS], # Encodings per image\n",
    "                     metadata=[val_dataset[i][1] for i in range(NUM_IMGS)], # Adding the labels per image to the plot\n",
    "                     label_img=(test_img_embeds[0][:NUM_IMGS][:,50,:,:].unsqueeze(1)+1)/2.0) # Adding the original images to the plot"
   ]
  },
  {
   "cell_type": "code",
   "execution_count": 5,
   "metadata": {},
   "outputs": [
    {
     "name": "stderr",
     "output_type": "stream",
     "text": [
      "UsageError: Line magic function `%tensorboard` not found.\n"
     ]
    }
   ],
   "source": [
    "%tensorboard --logdir tensorboard/\n"
   ]
  },
  {
   "cell_type": "code",
   "execution_count": null,
   "metadata": {},
   "outputs": [],
   "source": []
  }
 ],
 "metadata": {
  "kernelspec": {
   "display_name": "Python 3.9.7 ('ai-mind')",
   "language": "python",
   "name": "python3"
  },
  "language_info": {
   "codemirror_mode": {
    "name": "ipython",
    "version": 3
   },
   "file_extension": ".py",
   "mimetype": "text/x-python",
   "name": "python",
   "nbconvert_exporter": "python",
   "pygments_lexer": "ipython3",
   "version": "3.9.7"
  },
  "orig_nbformat": 4,
  "vscode": {
   "interpreter": {
    "hash": "125985f7fa99cea7c2c44d400fe5489f8dc7de82a67b1c0866046cef888b414a"
   }
  }
 },
 "nbformat": 4,
 "nbformat_minor": 2
}
